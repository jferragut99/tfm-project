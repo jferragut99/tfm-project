{
 "cells": [
  {
   "cell_type": "code",
   "execution_count": 1,
   "metadata": {},
   "outputs": [],
   "source": [
    "import pandas as pd\n",
    "import utils\n",
    "import numpy as np\n",
    "from tqdm import tqdm\n",
    "import collections\n",
    "import time\n",
    "import copy\n",
    "import os\n",
    "import datetime\n",
    "from datetime import date\n",
    "from datetime import datetime, timedelta\n",
    "from dateutil.relativedelta import relativedelta\n",
    "import calendar\n",
    "from pathlib import Path\n",
    "from email.mime.multipart import MIMEMultipart\n",
    "from email.mime.base import MIMEBase\n",
    "from email import encoders\n",
    "from email.mime.text import MIMEText\n",
    "import smtplib\n",
    "home = str(Path.home())\n",
    "t1 = time.time()\n",
    "from sklearn.preprocessing import LabelEncoder\n",
    "from sklearn.model_selection import train_test_split\n",
    "from ydata_profiling import ProfileReport\n",
    "import matplotlib.pyplot as plt\n",
    "import seaborn as sns"
   ]
  },
  {
   "cell_type": "code",
   "execution_count": 2,
   "metadata": {},
   "outputs": [],
   "source": [
    "# Snowflake connector dbt_jferragut\n",
    "engine = utils.create_snowflake_engine(TAG = '')\n",
    "connection = engine.connect()"
   ]
  },
  {
   "cell_type": "code",
   "execution_count": 3,
   "metadata": {},
   "outputs": [],
   "source": [
    "base_data_sql = \"\"\"\n",
    "SELECT *\n",
    "FROM test_hbg.dbt_jferragut.FEATURE_ENCODED\"\"\"\n",
    "\n",
    "base_data = pd.read_sql_query(base_data_sql,engine)"
   ]
  },
  {
   "cell_type": "code",
   "execution_count": 5,
   "metadata": {},
   "outputs": [],
   "source": [
    "profile = ProfileReport(base_data, title=\"Profiling Report\")"
   ]
  },
  {
   "cell_type": "code",
   "execution_count": null,
   "metadata": {},
   "outputs": [],
   "source": [
    "profile.to_file(\"EDA.pdf\")"
   ]
  },
  {
   "cell_type": "code",
   "execution_count": 150,
   "metadata": {},
   "outputs": [],
   "source": [
    "# EDA"
   ]
  },
  {
   "cell_type": "code",
   "execution_count": null,
   "metadata": {},
   "outputs": [],
   "source": [
    "base_data.columns"
   ]
  },
  {
   "cell_type": "code",
   "execution_count": null,
   "metadata": {},
   "outputs": [],
   "source": [
    "# numerical\n",
    "data_0 = base_data[(base_data['is_fraud'] == 0)]['dicrepancy_destcat']\n",
    "data_1 = base_data[base_data['is_fraud'] == 1]['dicrepancy_destcat']\n",
    "\n",
    "fig, axes = plt.subplots(1, 2, figsize=(14, 6), sharey=False)  # sharey=False para escalas independientes\n",
    "\n",
    "# Histograma para variable_binaria == 0\n",
    "axes[0].hist(data_0,  bins=np.arange(-0.5, max(data_0)+1.5,1), color='blue', alpha=0.7, edgecolor='black')\n",
    "axes[0].set_title('No Fraud', fontsize=14)\n",
    "axes[0].set_xlabel('dicrepancy_destcat', fontsize=12)\n",
    "axes[0].set_ylabel('Frequency', fontsize=12)\n",
    "axes[0].grid(axis='y', linestyle='--', alpha=0.7)\n",
    "\n",
    "# Histograma para variable_binaria == 1\n",
    "axes[1].hist(data_1,  bins=np.arange(-0.5, max(data_0)+1.5,1), color='orange', alpha=0.7, edgecolor='black')\n",
    "axes[1].set_title('Fraud', fontsize=14)\n",
    "axes[1].set_xlabel('dicrepancy_destcat', fontsize=12)\n",
    "axes[1].grid(axis='y', linestyle='--', alpha=0.7)\n",
    "\n",
    "y_limit = [-1.5,30]\n",
    "# x_limit = [0,5]\n",
    "axes[1].set_xlim(y_limit)\n",
    "axes[0].set_xlim(y_limit)\n",
    "# axes[1].set_xlim(x_limit)\n",
    "# # x_limit = [0,500]\n",
    "\n",
    "# Ajustar espaciado entre los subplots\n",
    "plt.tight_layout()\n",
    "plt.show()"
   ]
  },
  {
   "cell_type": "code",
   "execution_count": null,
   "metadata": {},
   "outputs": [],
   "source": [
    "# numerical relative\n",
    "data_0 = base_data[(base_data['is_fraud'] == 0)]['dicrepancy_destcat']\n",
    "data_1 = base_data[base_data['is_fraud'] == 1]['dicrepancy_destcat']\n",
    "\n",
    "fig, axes = plt.subplots(1, 2, figsize=(14, 6), sharey=False)  # sharey=False para escalas independientes\n",
    "#  bins=np.arange(0, max(data_0)+300,300)\n",
    "#  bins=np.arange(-0.5, max(data_0)+1.5,1)\n",
    "# Histograma para variable_binaria == 0\n",
    "axes[0].hist(data_0,bins=np.arange(-0.5, max(data_0)+1.5,1),density=True, color='blue', alpha=0.7, edgecolor='black')\n",
    "axes[0].set_title('No Fraud', fontsize=14)\n",
    "axes[0].set_xlabel('dicrepancy_destcat', fontsize=12)\n",
    "axes[0].set_ylabel('Relative frequency', fontsize=12)\n",
    "axes[0].grid(axis='y', linestyle='--', alpha=0.7)\n",
    "\n",
    "# Histograma para variable_binaria == 1\n",
    "axes[1].hist(data_1, bins=np.arange(-0.5, max(data_1)+1.5,1), density=True,color='orange', alpha=0.7, edgecolor='black')\n",
    "axes[1].set_title('Fraud', fontsize=14)\n",
    "axes[1].set_xlabel('dicrepancy_destcat', fontsize=12)\n",
    "axes[1].grid(axis='y', linestyle='--', alpha=0.7)\n",
    "\n",
    "x_limit = [-1.5,50]\n",
    "# x_limit = [-1.5,25]\n",
    "# # # axes[0].set_ylim([0,0.1])\n",
    "axes[0].set_xlim(x_limit)\n",
    "axes[1].set_xlim(x_limit)\n",
    "# axes[1].set_ylim([0,0.1])\n",
    "\n",
    "\n",
    "# Ajustar espaciado entre los subplots\n",
    "plt.tight_layout()\n",
    "plt.show()"
   ]
  },
  {
   "cell_type": "code",
   "execution_count": null,
   "metadata": {},
   "outputs": [],
   "source": [
    "# booleanas\n",
    "\n",
    "# Contar las frecuencias de variable_booleana para cada valor de variable_binaria\n",
    "conteo_fraude = base_data[base_data['is_fraud'] == 1]['top_fraud_destination_flag'].value_counts().sort_index()\n",
    "conteo_no_fraude = base_data[base_data['is_fraud'] == 0]['top_fraud_destination_flag'].value_counts().sort_index()\n",
    "\n",
    "# Asegurar que ambas categorías tienen valores 0 y 1 (completar si falta alguna categoría)\n",
    "conteo_fraude = conteo_fraude.reindex([0, 1], fill_value=0)\n",
    "conteo_no_fraude = conteo_no_fraude.reindex([0, 1], fill_value=0)\n",
    "\n",
    "# Crear gráficos lado a lado\n",
    "fig, axes = plt.subplots(1, 2, figsize=(12, 6))\n",
    "\n",
    "# Gráfico para No Fraude (variable_binaria = 0) con escala independiente\n",
    "axes[0].bar([0, 1], conteo_no_fraude, color=['blue', 'orange'], alpha=0.7)\n",
    "axes[0].set_title('No Fraud', fontsize=14)\n",
    "axes[0].set_ylabel('Frequency', fontsize=12)\n",
    "axes[0].set_xticks([0, 1])\n",
    "axes[0].set_xticklabels(['No top_fraud_destination_flag', 'top_fraud_destination_flag'])\n",
    "axes[0].grid(axis='y', linestyle='--', alpha=0.7)\n",
    "\n",
    "# Gráfico para Fraude (variable_binaria = 1) con escala independiente\n",
    "axes[1].bar([0, 1], conteo_fraude, color=['blue', 'orange'], alpha=0.7)\n",
    "axes[1].set_title('Fraud', fontsize=14)\n",
    "axes[1].set_xticks([0, 1])\n",
    "axes[1].set_xticklabels(['No top_fraud_destination_flag', 'top_fraud_destination_flag'])\n",
    "axes[1].grid(axis='y', linestyle='--', alpha=0.7)\n",
    "\n",
    "# Ajustar diseño\n",
    "plt.tight_layout()\n",
    "plt.show()"
   ]
  },
  {
   "cell_type": "code",
   "execution_count": null,
   "metadata": {},
   "outputs": [],
   "source": [
    "# booleanas relative\n",
    "\n",
    "# Contar las frecuencias de variable_booleana para cada valor de variable_binaria\n",
    "conteo_fraude = base_data[base_data['is_fraud'] == 1]['top_fraud_agency_flag'].value_counts(normalize=True).sort_index()\n",
    "conteo_no_fraude = base_data[base_data['is_fraud'] == 0]['top_fraud_agency_flag'].value_counts(normalize=True).sort_index()\n",
    "\n",
    "# Asegurar que ambas categorías tienen valores 0 y 1 (completar si falta alguna categoría)\n",
    "conteo_fraude = conteo_fraude.reindex([0, 1], fill_value=0)\n",
    "conteo_no_fraude = conteo_no_fraude.reindex([0, 1], fill_value=0)\n",
    "\n",
    "# Crear gráficos lado a lado\n",
    "fig, axes = plt.subplots(1, 2, figsize=(12, 6))\n",
    "\n",
    "# Gráfico para No Fraude (variable_binaria = 0) con escala independiente\n",
    "axes[0].bar([0, 1], conteo_no_fraude, color=['blue', 'orange'], alpha=0.7)\n",
    "axes[0].set_title('No Fraud', fontsize=14)\n",
    "axes[0].set_ylabel('Relative frequency', fontsize=12)\n",
    "axes[0].set_xticks([0, 1])\n",
    "axes[0].set_xticklabels(['No top_fraud_agency_flag', 'top_fraud_agency_flag'])\n",
    "axes[0].grid(axis='y', linestyle='--', alpha=0.7)\n",
    "\n",
    "# Gráfico para Fraude (variable_binaria = 1) con escala independiente\n",
    "axes[1].bar([0, 1], conteo_fraude, color=['blue', 'orange'], alpha=0.7)\n",
    "axes[1].set_title('Fraud', fontsize=14)\n",
    "axes[1].set_xticks([0, 1])\n",
    "axes[1].set_xticklabels(['No top_fraud_destination_flag', 'top_fraud_destination_flag'])\n",
    "axes[1].grid(axis='y', linestyle='--', alpha=0.7)\n",
    "\n",
    "# Ajustar diseño\n",
    "plt.tight_layout()\n",
    "plt.show()"
   ]
  },
  {
   "cell_type": "code",
   "execution_count": null,
   "metadata": {},
   "outputs": [],
   "source": [
    "# categorical\n",
    "categorias = sorted(base_data['application'].unique())\n",
    "\n",
    "\n",
    "data_0 = base_data[base_data['is_fraud'] == 0]['application'].value_counts().reindex(categorias, fill_value=0)\n",
    "data_1 = base_data[base_data['is_fraud'] == 1]['application'].value_counts().reindex(categorias, fill_value=0)\n",
    "\n",
    "fig, axes = plt.subplots(1, 2, figsize=(14, 6), sharey=False)  # sharey=False para escalas independientes\n",
    "\n",
    "axes[0].bar(data_0.index, data_0.values, color='blue', alpha=0.7, edgecolor='black')\n",
    "axes[0].set_title('No Fraud', fontsize=14)\n",
    "axes[0].set_xlabel('application', fontsize=12)\n",
    "axes[0].set_ylabel('Frequency', fontsize=12)\n",
    "axes[0].grid(axis='y', linestyle='--', alpha=0.7)\n",
    "\n",
    "# Gráfico de barras para variable_binaria == 1\n",
    "axes[1].bar(data_1.index, data_1.values, color='orange', alpha=0.7, edgecolor='black')\n",
    "axes[1].set_title('Fraud', fontsize=14)\n",
    "axes[1].set_xlabel('application', fontsize=12)\n",
    "axes[1].grid(axis='y', linestyle='--', alpha=0.7)\n",
    "\n",
    "# Ajustar espaciado entre subplots\n",
    "plt.tight_layout()\n",
    "plt.show()"
   ]
  },
  {
   "cell_type": "code",
   "execution_count": null,
   "metadata": {},
   "outputs": [],
   "source": [
    "# categorical relative\n",
    "categorias = sorted(base_data['paymenttype'].unique())\n",
    "\n",
    "\n",
    "data_0 = base_data[base_data['is_fraud'] == 0]['paymenttype'].value_counts(normalize=True).reindex(categorias, fill_value=0)\n",
    "data_1 = base_data[base_data['is_fraud'] == 1]['paymenttype'].value_counts(normalize=True).reindex(categorias, fill_value=0)\n",
    "\n",
    "fig, axes = plt.subplots(1, 2, figsize=(14, 6), sharey=False)  # sharey=False para escalas independientes\n",
    "\n",
    "axes[0].bar(data_0.index, data_0.values, color='blue', alpha=0.7, edgecolor='black')\n",
    "axes[0].set_title('No Fraud', fontsize=14)\n",
    "axes[0].set_xlabel('paymenttype', fontsize=12)\n",
    "axes[0].set_ylabel('Relative Frequency', fontsize=12)\n",
    "axes[0].grid(axis='y', linestyle='--', alpha=0.7)\n",
    "\n",
    "# Gráfico de barras para variable_binaria == 1\n",
    "axes[1].bar(data_1.index, data_1.values, color='orange', alpha=0.7, edgecolor='black')\n",
    "axes[1].set_title('Fraud', fontsize=14)\n",
    "axes[1].set_xlabel('paymenttype', fontsize=12)\n",
    "axes[1].grid(axis='y', linestyle='--', alpha=0.7)\n",
    "\n",
    "# Ajustar espaciado entre subplots\n",
    "plt.tight_layout()\n",
    "plt.show()"
   ]
  },
  {
   "cell_type": "markdown",
   "metadata": {},
   "source": [
    "# Heat Map"
   ]
  },
  {
   "cell_type": "code",
   "execution_count": 111,
   "metadata": {},
   "outputs": [],
   "source": [
    "encoded_sql = \"\"\"\n",
    "SELECT\n",
    "       *\n",
    "FROM test_hbg.dbt_jferragut.feature_encoded\"\"\"\n",
    "\n",
    "encoded = pd.read_sql_query(encoded_sql,engine)"
   ]
  },
  {
   "cell_type": "code",
   "execution_count": null,
   "metadata": {},
   "outputs": [],
   "source": [
    "encoded.columns"
   ]
  },
  {
   "cell_type": "code",
   "execution_count": null,
   "metadata": {},
   "outputs": [],
   "source": [
    "# Calcular la matriz de correlación\n",
    "correlation_matrix = base_data[['lead_time_days',\n",
    "       'length_of_stay', 'PAYMENTTYPE_BookNowPayLater', 'PAYMENTTYPE_Credit','paymenttype_0',\n",
    "       'PAYMENTTYPE_PayWithCreditCard', 'top_fraud_agency_flag', 'total_ko_web', \n",
    "       'top_fraud_destination_flag', 'adr',\n",
    "       'dicrepancy_cm', 'dicrepancy_cy', 'dicrepancy_destcat', 'is_fraud']].corr()\n",
    "\n",
    "# Crear el mapa de calor con Seaborn\n",
    "plt.figure(figsize=(8, 6))  # Tamaño de la figura\n",
    "sns.heatmap(correlation_matrix, annot=True, annot_kws={\"size\":6},cmap='coolwarm', fmt='.2f', linewidths=0.5)\n",
    "\n",
    "# Personalizar la visualización\n",
    "plt.title('Correlation Heat Map', fontsize=16)\n",
    "plt.show()"
   ]
  }
 ],
 "metadata": {
  "kernelspec": {
   "display_name": "fraud_ml",
   "language": "python",
   "name": "python3"
  },
  "language_info": {
   "codemirror_mode": {
    "name": "ipython",
    "version": 3
   },
   "file_extension": ".py",
   "mimetype": "text/x-python",
   "name": "python",
   "nbconvert_exporter": "python",
   "pygments_lexer": "ipython3",
   "version": "3.8.0"
  }
 },
 "nbformat": 4,
 "nbformat_minor": 2
}
