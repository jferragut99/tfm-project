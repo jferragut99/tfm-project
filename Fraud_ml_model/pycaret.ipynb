{
 "cells": [
  {
   "cell_type": "code",
   "execution_count": 1,
   "metadata": {},
   "outputs": [],
   "source": [
    "import pandas as pd\n",
    "import utils\n",
    "import numpy as np\n",
    "from tqdm import tqdm\n",
    "import collections\n",
    "import time\n",
    "import copy\n",
    "import os\n",
    "import datetime\n",
    "from datetime import date\n",
    "from datetime import datetime, timedelta\n",
    "from dateutil.relativedelta import relativedelta\n",
    "import calendar\n",
    "from pathlib import Path\n",
    "from email.mime.multipart import MIMEMultipart\n",
    "from email.mime.base import MIMEBase\n",
    "from email import encoders\n",
    "from email.mime.text import MIMEText\n",
    "import smtplib\n",
    "home = str(Path.home())\n",
    "t1 = time.time()\n",
    "from sklearn.preprocessing import LabelEncoder\n",
    "from sklearn.model_selection import train_test_split\n",
    "# from ydata_profiling import ProfileReport\n",
    "import matplotlib.pyplot as plt\n",
    "# import seaborn as sns"
   ]
  },
  {
   "cell_type": "code",
   "execution_count": 2,
   "metadata": {},
   "outputs": [],
   "source": [
    "# Snowflake connector dbt_jferragut\n",
    "engine = utils.create_snowflake_engine(TAG = 'DIRECT PROFITABILITY')\n",
    "connection = engine.connect()"
   ]
  },
  {
   "cell_type": "markdown",
   "metadata": {},
   "source": [
    "# PyCaret"
   ]
  },
  {
   "cell_type": "code",
   "execution_count": 3,
   "metadata": {},
   "outputs": [],
   "source": [
    "from pycaret.classification import *"
   ]
  },
  {
   "cell_type": "code",
   "execution_count": 4,
   "metadata": {},
   "outputs": [],
   "source": [
    "encoded_sql = \"\"\"\n",
    "SELECT\n",
    "       *\n",
    "FROM test_hbg.dbt_jferragut.feature_encoded\"\"\"\n",
    "\n",
    "encoded = pd.read_sql_query(encoded_sql,engine)"
   ]
  },
  {
   "cell_type": "code",
   "execution_count": 58,
   "metadata": {},
   "outputs": [],
   "source": [
    "from sklearn.model_selection import StratifiedKFold"
   ]
  },
  {
   "cell_type": "code",
   "execution_count": 68,
   "metadata": {},
   "outputs": [],
   "source": [
    "encoded = encoded.drop(columns=['bookingreference','booking_timestamp'])"
   ]
  },
  {
   "cell_type": "code",
   "execution_count": null,
   "metadata": {},
   "outputs": [],
   "source": [
    "clf = setup(\n",
    "    data=encoded, \n",
    "    target='is_fraud',  # Target variable indicating fraud (0 or 1)\n",
    "    session_id=1 , # Seed setting for reproducibility\n",
    "    fix_imbalance=True , # Automatic unbalance management\n",
    "    fold_strategy='stratifiedkfold' # stratified cross-validation, ensures that the ratio of fraud to non-fraud is maintained for each fraud.\n",
    ")\n",
    "\n",
    "# This trains and compares multiple models (such as LightGBM, Random Forest, etc.).\n",
    "best_model = compare_models(sort='Recall')  # Order by Recall (key to unbalanced problems)"
   ]
  }
 ],
 "metadata": {
  "kernelspec": {
   "display_name": "pycaret_env2",
   "language": "python",
   "name": "python3"
  },
  "language_info": {
   "codemirror_mode": {
    "name": "ipython",
    "version": 3
   },
   "file_extension": ".py",
   "mimetype": "text/x-python",
   "name": "python",
   "nbconvert_exporter": "python",
   "pygments_lexer": "ipython3",
   "version": "3.10.9"
  }
 },
 "nbformat": 4,
 "nbformat_minor": 2
}
